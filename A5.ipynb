{
  "nbformat": 4,
  "nbformat_minor": 5,
  "metadata": {
    "kernelspec": {
      "display_name": "Python 3",
      "language": "python",
      "name": "python3"
    },
    "language_info": {
      "codemirror_mode": {
        "name": "ipython",
        "version": 3
      },
      "file_extension": ".py",
      "mimetype": "text/x-python",
      "name": "python",
      "nbconvert_exporter": "python",
      "pygments_lexer": "ipython3",
      "version": "3.8.10"
    },
    "colab": {
      "name": "A5.ipynb",
      "provenance": [],
      "include_colab_link": true
    }
  },
  "cells": [
    {
      "cell_type": "markdown",
      "metadata": {
        "id": "view-in-github",
        "colab_type": "text"
      },
      "source": [
        "<a href=\"https://colab.research.google.com/github/vishwatheerthala/AI/blob/main/A5.ipynb\" target=\"_parent\"><img src=\"https://colab.research.google.com/assets/colab-badge.svg\" alt=\"Open In Colab\"/></a>"
      ]
    },
    {
      "cell_type": "code",
      "metadata": {
        "id": "47bc4993"
      },
      "source": [
        "import numpy as np\n",
        "import pandas as pd"
      ],
      "id": "47bc4993",
      "execution_count": 1,
      "outputs": []
    },
    {
      "cell_type": "code",
      "metadata": {
        "id": "d5181fc6"
      },
      "source": [
        "data = pd.read_excel('assign5.xlsx')"
      ],
      "id": "d5181fc6",
      "execution_count": null,
      "outputs": []
    },
    {
      "cell_type": "code",
      "metadata": {
        "id": "d5b35a07",
        "outputId": "c5fc74bd-12b0-4a35-ada5-fe3aea19f5df"
      },
      "source": [
        "data"
      ],
      "id": "d5b35a07",
      "execution_count": null,
      "outputs": [
        {
          "data": {
            "text/html": [
              "<div>\n",
              "<style scoped>\n",
              "    .dataframe tbody tr th:only-of-type {\n",
              "        vertical-align: middle;\n",
              "    }\n",
              "\n",
              "    .dataframe tbody tr th {\n",
              "        vertical-align: top;\n",
              "    }\n",
              "\n",
              "    .dataframe thead th {\n",
              "        text-align: right;\n",
              "    }\n",
              "</style>\n",
              "<table border=\"1\" class=\"dataframe\">\n",
              "  <thead>\n",
              "    <tr style=\"text-align: right;\">\n",
              "      <th></th>\n",
              "      <th>Date</th>\n",
              "      <th>Time</th>\n",
              "      <th>Load (kW)</th>\n",
              "    </tr>\n",
              "  </thead>\n",
              "  <tbody>\n",
              "    <tr>\n",
              "      <th>0</th>\n",
              "      <td>01.09.2018</td>\n",
              "      <td>00:00:00</td>\n",
              "      <td>5551.82208</td>\n",
              "    </tr>\n",
              "    <tr>\n",
              "      <th>1</th>\n",
              "      <td>NaN</td>\n",
              "      <td>01:00:00</td>\n",
              "      <td>4983.17184</td>\n",
              "    </tr>\n",
              "    <tr>\n",
              "      <th>2</th>\n",
              "      <td>NaN</td>\n",
              "      <td>02:00:00</td>\n",
              "      <td>4888.39680</td>\n",
              "    </tr>\n",
              "    <tr>\n",
              "      <th>3</th>\n",
              "      <td>NaN</td>\n",
              "      <td>03:00:00</td>\n",
              "      <td>5072.95872</td>\n",
              "    </tr>\n",
              "    <tr>\n",
              "      <th>4</th>\n",
              "      <td>NaN</td>\n",
              "      <td>04:00:00</td>\n",
              "      <td>5196.25980</td>\n",
              "    </tr>\n",
              "    <tr>\n",
              "      <th>...</th>\n",
              "      <td>...</td>\n",
              "      <td>...</td>\n",
              "      <td>...</td>\n",
              "    </tr>\n",
              "    <tr>\n",
              "      <th>2179</th>\n",
              "      <td>NaN</td>\n",
              "      <td>1900-03-28 19:00:00</td>\n",
              "      <td>4626.51840</td>\n",
              "    </tr>\n",
              "    <tr>\n",
              "      <th>2180</th>\n",
              "      <td>NaN</td>\n",
              "      <td>1900-03-28 20:00:00</td>\n",
              "      <td>4567.90752</td>\n",
              "    </tr>\n",
              "    <tr>\n",
              "      <th>2181</th>\n",
              "      <td>NaN</td>\n",
              "      <td>1900-03-28 21:00:00</td>\n",
              "      <td>4723.63164</td>\n",
              "    </tr>\n",
              "    <tr>\n",
              "      <th>2182</th>\n",
              "      <td>NaN</td>\n",
              "      <td>1900-03-28 22:00:00</td>\n",
              "      <td>5150.27520</td>\n",
              "    </tr>\n",
              "    <tr>\n",
              "      <th>2183</th>\n",
              "      <td>NaN</td>\n",
              "      <td>1900-03-28 23:00:00</td>\n",
              "      <td>6938.37468</td>\n",
              "    </tr>\n",
              "  </tbody>\n",
              "</table>\n",
              "<p>2184 rows × 3 columns</p>\n",
              "</div>"
            ],
            "text/plain": [
              "            Date                 Time   Load (kW)\n",
              "0     01.09.2018             00:00:00  5551.82208\n",
              "1            NaN             01:00:00  4983.17184\n",
              "2            NaN             02:00:00  4888.39680\n",
              "3            NaN             03:00:00  5072.95872\n",
              "4            NaN             04:00:00  5196.25980\n",
              "...          ...                  ...         ...\n",
              "2179         NaN  1900-03-28 19:00:00  4626.51840\n",
              "2180         NaN  1900-03-28 20:00:00  4567.90752\n",
              "2181         NaN  1900-03-28 21:00:00  4723.63164\n",
              "2182         NaN  1900-03-28 22:00:00  5150.27520\n",
              "2183         NaN  1900-03-28 23:00:00  6938.37468\n",
              "\n",
              "[2184 rows x 3 columns]"
            ]
          },
          "execution_count": 3,
          "metadata": {},
          "output_type": "execute_result"
        }
      ]
    },
    {
      "cell_type": "code",
      "metadata": {
        "id": "51881d1d"
      },
      "source": [
        "lt_3=[]\n",
        "for i in range(0,data.shape[0]-3):\n",
        "    lt_3.append(data['Load (kW)'][i])"
      ],
      "id": "51881d1d",
      "execution_count": null,
      "outputs": []
    },
    {
      "cell_type": "code",
      "metadata": {
        "id": "bcfc53c1"
      },
      "source": [
        "lt_2=[]\n",
        "for i in range(1,data.shape[0]-2):\n",
        "    lt_2.append(data['Load (kW)'][i])"
      ],
      "id": "bcfc53c1",
      "execution_count": null,
      "outputs": []
    },
    {
      "cell_type": "code",
      "metadata": {
        "id": "6a696075"
      },
      "source": [
        "lt_1=[]\n",
        "for i in range(2,data.shape[0]-1):\n",
        "    lt_1.append(data['Load (kW)'][i])"
      ],
      "id": "6a696075",
      "execution_count": null,
      "outputs": []
    },
    {
      "cell_type": "code",
      "metadata": {
        "id": "0c53e061"
      },
      "source": [
        "lt_0=[]\n",
        "for i in range(3,data.shape[0]-0):\n",
        "    lt_0.append(data['Load (kW)'][i])"
      ],
      "id": "0c53e061",
      "execution_count": null,
      "outputs": []
    },
    {
      "cell_type": "code",
      "metadata": {
        "id": "60217197"
      },
      "source": [
        "lt_3Max=np.max(lt_3)\n",
        "lt_2Max=np.max(lt_2)\n",
        "lt_1Max=np.max(lt_1)\n",
        "lt_0Max=np.max(lt_0)\n",
        "lt_3Min=np.min(lt_3)\n",
        "lt_2Min=np.min(lt_2)\n",
        "lt_1Min=np.min(lt_1)\n",
        "lt_0Min=np.min(lt_0)\n",
        "for i in range(len(lt_3)):\n",
        "    lt_0[i]=(lt_0[i]-lt_0Min)/(lt_0Max-lt_0Min)\n",
        "    lt_1[i]=(lt_1[i]-lt_1Min)/(lt_1Max-lt_1Min)\n",
        "    lt_2[i]=(lt_2[i]-lt_2Min)/(lt_2Max-lt_2Min)\n",
        "    lt_3[i]=(lt_3[i]-lt_3Min)/(lt_3Max-lt_3Min)"
      ],
      "id": "60217197",
      "execution_count": null,
      "outputs": []
    },
    {
      "cell_type": "code",
      "metadata": {
        "id": "65be3360"
      },
      "source": [
        "load=pd.DataFrame({'LT-3':lt_3,'LT-2':lt_2,'LT-1':lt_1, 'LT-0':lt_0})"
      ],
      "id": "65be3360",
      "execution_count": null,
      "outputs": []
    },
    {
      "cell_type": "code",
      "metadata": {
        "id": "15e1f85e"
      },
      "source": [
        "from sklearn.model_selection import train_test_split\n",
        "X, y = load.drop('LT-0',axis=1),load['LT-0']\n",
        "x_train, x_test, y_train, y_test = train_test_split(X, y, test_size = 0.20, random_state = 10)"
      ],
      "id": "15e1f85e",
      "execution_count": null,
      "outputs": []
    },
    {
      "cell_type": "code",
      "metadata": {
        "id": "68f50a46",
        "outputId": "467254dd-add4-4865-b808-6216fa4b8579"
      },
      "source": [
        "def gradient(m1,m2,m3,c,x1,x2,x3,y):\n",
        "    m1_deriv=-1*(y-m1*x1-m2*x2-m3*x3-c)*x1\n",
        "    m2_deriv=-1*(y-m1*x1-m2*x2-m3*x3-c)*x2\n",
        "    m3_deriv=-1*(y-m1*x1-m2*x2-m3*x3-c)*x3\n",
        "    c_deriv=-1*(y-m1*x1-m2*x2-m3*x3-c)\n",
        "    return m1_deriv,m2_deriv,m3_deriv,c_deriv\n",
        "import random\n",
        "m1=random.uniform(-10,10)\n",
        "m2=random.uniform(-10,10)\n",
        "m3=random.uniform(-10,10)\n",
        "c=random.uniform(-10,10)\n",
        "eta=0.1\n",
        "max_iter=500\n",
        "\n",
        "for iter in range(max_iter):\n",
        "    for i in range(x_train.shape[0]):\n",
        "        del_m1,del_m2,del_m3,del_c=gradient(m1,m2,m3,c,x_train.iat[i,0],x_train.iat[i,1],x_train.iat[i,2],y_train.iloc[i])\n",
        "        m1=m1-eta*del_m1\n",
        "        m2=m2-eta*del_m2\n",
        "        m3=m3-eta*del_m3\n",
        "        c=c-eta*del_c\n",
        "print('model parameter m and c',m1,m2,m3,c)"
      ],
      "id": "68f50a46",
      "execution_count": null,
      "outputs": [
        {
          "name": "stdout",
          "output_type": "stream",
          "text": [
            "model parameter m and c -0.20929847981904956 0.030441491869554953 0.8551628652827352 0.1467206828032618\n"
          ]
        }
      ]
    },
    {
      "cell_type": "code",
      "metadata": {
        "id": "0a3b7510"
      },
      "source": [
        "y_pred_train = []\n",
        "for i in range(x_train.shape[0]):\n",
        "    x1=x_train.iat[i,0]\n",
        "    x2=x_train.iat[i,1]\n",
        "    x3=x_train.iat[i,2]\n",
        "    y=y_train.iat[i]\n",
        "    y_pred = (m1 * x1) + c + (m2 * x2) + (m3 * x3)\n",
        "    y_pred_train.append(y_pred)\n",
        "y_pred_train = np.array(y_pred_train)"
      ],
      "id": "0a3b7510",
      "execution_count": null,
      "outputs": []
    },
    {
      "cell_type": "code",
      "metadata": {
        "id": "28b4cde7"
      },
      "source": [
        "y_pred_test = []\n",
        "for i in range(x_test.shape[0]):\n",
        "    x1=x_test.iat[i,0]\n",
        "    x2=x_test.iat[i,1]\n",
        "    x3=x_test.iat[i,2]\n",
        "    y=y_test.iat[i]\n",
        "    y_pred = (m1 * x1) + c + (m2 * x2) + (m3 * x3)\n",
        "    y_pred_test.append(y_pred)\n",
        "y_pred_test = np.array(y_pred_test)"
      ],
      "id": "28b4cde7",
      "execution_count": null,
      "outputs": []
    },
    {
      "cell_type": "code",
      "metadata": {
        "id": "c2d5dbf9"
      },
      "source": [
        "y_train_denorm=[]\n",
        "y_train_pred_denorm=[]\n",
        "for i in range(y_train.shape[0]):\n",
        "    y_train_denorm.append(y_train.iloc[i]*(lt_0Max-lt_0Min)+lt_0Min)\n",
        "    y_train_pred_denorm.append(y_pred_train[i]*(lt_0Max-lt_0Min)+lt_0Min)\n",
        "y_pred_train=y_train_pred_denorm\n",
        "y_train=y_train_denorm"
      ],
      "id": "c2d5dbf9",
      "execution_count": null,
      "outputs": []
    },
    {
      "cell_type": "code",
      "metadata": {
        "id": "7e141873"
      },
      "source": [
        "y_test_denorm=[]\n",
        "y_test_pred_denorm=[]\n",
        "for i in range(y_test.shape[0]):\n",
        "    y_test_denorm.append(y_test.iloc[i]*(lt_0Max-lt_0Min)+lt_0Min)\n",
        "    y_test_pred_denorm.append(y_pred_test[i]*(lt_0Max-lt_0Min)+lt_0Min)\n",
        "y_pred_test=y_test_pred_denorm\n",
        "y_test=y_test_denorm"
      ],
      "id": "7e141873",
      "execution_count": null,
      "outputs": []
    },
    {
      "cell_type": "code",
      "metadata": {
        "id": "415bb750",
        "outputId": "0ea52782-1669-403e-f906-4558d5dd373a"
      },
      "source": [
        "import math\n",
        "from sklearn.metrics import mean_squared_error \n",
        "from sklearn.metrics import mean_absolute_error\n",
        "rmse = math.sqrt(mean_squared_error(y_train, y_pred_train)) \n",
        "print('Root mean square error', rmse) \n",
        "mse = (mean_squared_error(y_train, y_pred_train)) \n",
        "print('Mean square error', mse) \n",
        "mae=mean_absolute_error(y_train, y_pred_train)\n",
        "print('Mean absolute error', mae)"
      ],
      "id": "415bb750",
      "execution_count": null,
      "outputs": [
        {
          "name": "stdout",
          "output_type": "stream",
          "text": [
            "Root mean square error 647.1959879937988\n",
            "Mean square error 418862.6468752693\n",
            "Mean absolute error 443.2490079981892\n"
          ]
        }
      ]
    },
    {
      "cell_type": "code",
      "metadata": {
        "id": "664271ac",
        "outputId": "5fb62dfc-642a-4a82-9ceb-920a6ed0a429"
      },
      "source": [
        "mse = math.sqrt(mean_squared_error(y_test, y_pred_test)) \n",
        "print('Root mean square error', mse) \n",
        "mse = (mean_squared_error(y_test, y_pred_test)) \n",
        "print('Mean square error', mse) \n",
        "mae=mean_absolute_error(y_test, y_pred_test)\n",
        "print('Mean absolute error', mae)"
      ],
      "id": "664271ac",
      "execution_count": null,
      "outputs": [
        {
          "name": "stdout",
          "output_type": "stream",
          "text": [
            "Root mean square error 620.8444142830592\n",
            "Mean square error 385447.7867464749\n",
            "Mean absolute error 438.08205424113845\n"
          ]
        }
      ]
    },
    {
      "cell_type": "code",
      "metadata": {
        "id": "07ae502a"
      },
      "source": [
        ""
      ],
      "id": "07ae502a",
      "execution_count": null,
      "outputs": []
    }
  ]
}