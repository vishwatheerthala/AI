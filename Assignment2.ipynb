{
  "nbformat": 4,
  "nbformat_minor": 0,
  "metadata": {
    "colab": {
      "name": "Assignment2.ipynb",
      "provenance": [],
      "authorship_tag": "ABX9TyPhW8sS4UGfMjkqEkO926pY",
      "include_colab_link": true
    },
    "kernelspec": {
      "name": "python3",
      "display_name": "Python 3"
    },
    "language_info": {
      "name": "python"
    }
  },
  "cells": [
    {
      "cell_type": "markdown",
      "metadata": {
        "id": "view-in-github",
        "colab_type": "text"
      },
      "source": [
        "<a href=\"https://colab.research.google.com/github/vishwatheerthala/AI/blob/main/Assignment2.ipynb\" target=\"_parent\"><img src=\"https://colab.research.google.com/assets/colab-badge.svg\" alt=\"Open In Colab\"/></a>"
      ]
    },
    {
      "cell_type": "code",
      "metadata": {
        "colab": {
          "base_uri": "https://localhost:8080/"
        },
        "id": "x6qOH0c3-LHj",
        "outputId": "fd961f82-70b5-4974-8ee3-679fc029acbd"
      },
      "source": [
        "import numpy as np\n",
        "x=np.random.uniform(-1,1)\n",
        "eta=0.1\n",
        "iter=1\n",
        "epochs=100\n",
        "while iter<=epochs:\n",
        "  g_x=4*(x**3)+6*x\n",
        "  del_x=-(eta*g_x)\n",
        "  x=x+del_x\n",
        "  iter=iter+1\n",
        "obj=(x**4)+3*(x**2)+10\n",
        "print(round(x),obj)"
      ],
      "execution_count": 4,
      "outputs": [
        {
          "output_type": "stream",
          "name": "stdout",
          "text": [
            "0 10.0\n"
          ]
        }
      ]
    }
  ]
}