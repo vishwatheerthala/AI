{
  "nbformat": 4,
  "nbformat_minor": 0,
  "metadata": {
    "colab": {
      "name": "Assignment3.ipynb",
      "provenance": [],
      "authorship_tag": "ABX9TyNYolvUAvX6pCMbkozGA+Yl",
      "include_colab_link": true
    },
    "kernelspec": {
      "name": "python3",
      "display_name": "Python 3"
    },
    "language_info": {
      "name": "python"
    }
  },
  "cells": [
    {
      "cell_type": "markdown",
      "metadata": {
        "id": "view-in-github",
        "colab_type": "text"
      },
      "source": [
        "<a href=\"https://colab.research.google.com/github/vishwatheerthala/AI/blob/main/Assignment3.ipynb\" target=\"_parent\"><img src=\"https://colab.research.google.com/assets/colab-badge.svg\" alt=\"Open In Colab\"/></a>"
      ]
    },
    {
      "cell_type": "code",
      "metadata": {
        "colab": {
          "base_uri": "https://localhost:8080/"
        },
        "id": "68NeiqFNSTfB",
        "outputId": "5e5de0da-ef64-459c-b68c-266cce83d94d"
      },
      "source": [
        "import numpy as np \n",
        "x=np.random.uniform(-100,100)\n",
        "y=np.random.uniform(-100,100)\n",
        "eta=0.1\n",
        "epochs=200\n",
        "iter=1\n",
        "while iter<=epochs:\n",
        " slopex=6*x \n",
        " slopey=-5*pow(2.71828,-y)\n",
        " step_length_x=-(eta*slopex)\n",
        " step_length_y=-(eta*slopey)\n",
        " x=x+step_length_x\n",
        " y=y+step_length_y\n",
        " iter=iter+1\n",
        "obj=3*x*x + 5*pow(2.71828,-y) + 10\n",
        "print(\"The value of x is \",round(x),\"\\nThe value of y is \",round(y))\n",
        "print(\"OBJECTIVE FUNCTION= at values \",round(x),\",\",round(y),\" is \" ,round(obj))"
      ],
      "execution_count": 12,
      "outputs": [
        {
          "output_type": "stream",
          "name": "stdout",
          "text": [
            "The value of x is  0 \n",
            "The value of y is  24\n",
            "OBJECTIVE FUNCTION= at values  0 , 24  is  10\n"
          ]
        }
      ]
    }
  ]
}