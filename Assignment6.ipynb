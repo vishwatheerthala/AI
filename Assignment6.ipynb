{
  "nbformat": 4,
  "nbformat_minor": 5,
  "metadata": {
    "kernelspec": {
      "display_name": "Python 3",
      "language": "python",
      "name": "python3"
    },
    "language_info": {
      "codemirror_mode": {
        "name": "ipython",
        "version": 3
      },
      "file_extension": ".py",
      "mimetype": "text/x-python",
      "name": "python",
      "nbconvert_exporter": "python",
      "pygments_lexer": "ipython3",
      "version": "3.8.10"
    },
    "colab": {
      "name": "A6.ipynb",
      "provenance": [],
      "include_colab_link": true
    }
  },
  "cells": [
    {
      "cell_type": "markdown",
      "metadata": {
        "id": "view-in-github",
        "colab_type": "text"
      },
      "source": [
        "<a href=\"https://colab.research.google.com/github/vishwatheerthala/AI/blob/main/Assignment6.ipynb\" target=\"_parent\"><img src=\"https://colab.research.google.com/assets/colab-badge.svg\" alt=\"Open In Colab\"/></a>"
      ]
    },
    {
      "cell_type": "code",
      "metadata": {
        "id": "ab79b777"
      },
      "source": [
        "import numpy as np\n",
        "import pandas as pd"
      ],
      "id": "ab79b777",
      "execution_count": 1,
      "outputs": []
    },
    {
      "cell_type": "code",
      "metadata": {
        "id": "bf39bcc4",
        "outputId": "b61a9fde-2d73-44cd-f83f-d9d4c6d73f2c"
      },
      "source": [
        "data=pd.read_excel('assign4.xls')"
      ],
      "id": "bf39bcc4",
      "execution_count": null,
      "outputs": [
        {
          "name": "stdout",
          "output_type": "stream",
          "text": [
            "*** No CODEPAGE record, no encoding_override: will use 'ascii'\n"
          ]
        }
      ]
    },
    {
      "cell_type": "code",
      "metadata": {
        "id": "cfa422a1",
        "outputId": "e6af6618-c9f1-4094-dd78-061afae56e5a"
      },
      "source": [
        "data"
      ],
      "id": "cfa422a1",
      "execution_count": null,
      "outputs": [
        {
          "data": {
            "text/html": [
              "<div>\n",
              "<style scoped>\n",
              "    .dataframe tbody tr th:only-of-type {\n",
              "        vertical-align: middle;\n",
              "    }\n",
              "\n",
              "    .dataframe tbody tr th {\n",
              "        vertical-align: top;\n",
              "    }\n",
              "\n",
              "    .dataframe thead th {\n",
              "        text-align: right;\n",
              "    }\n",
              "</style>\n",
              "<table border=\"1\" class=\"dataframe\">\n",
              "  <thead>\n",
              "    <tr style=\"text-align: right;\">\n",
              "      <th></th>\n",
              "      <th>X</th>\n",
              "      <th>Y</th>\n",
              "    </tr>\n",
              "  </thead>\n",
              "  <tbody>\n",
              "    <tr>\n",
              "      <th>0</th>\n",
              "      <td>7.6</td>\n",
              "      <td>157</td>\n",
              "    </tr>\n",
              "    <tr>\n",
              "      <th>1</th>\n",
              "      <td>7.1</td>\n",
              "      <td>174</td>\n",
              "    </tr>\n",
              "    <tr>\n",
              "      <th>2</th>\n",
              "      <td>8.2</td>\n",
              "      <td>175</td>\n",
              "    </tr>\n",
              "    <tr>\n",
              "      <th>3</th>\n",
              "      <td>7.5</td>\n",
              "      <td>188</td>\n",
              "    </tr>\n",
              "    <tr>\n",
              "      <th>4</th>\n",
              "      <td>7.4</td>\n",
              "      <td>171</td>\n",
              "    </tr>\n",
              "    <tr>\n",
              "      <th>5</th>\n",
              "      <td>7.8</td>\n",
              "      <td>143</td>\n",
              "    </tr>\n",
              "    <tr>\n",
              "      <th>6</th>\n",
              "      <td>7.3</td>\n",
              "      <td>217</td>\n",
              "    </tr>\n",
              "    <tr>\n",
              "      <th>7</th>\n",
              "      <td>8.0</td>\n",
              "      <td>190</td>\n",
              "    </tr>\n",
              "    <tr>\n",
              "      <th>8</th>\n",
              "      <td>7.1</td>\n",
              "      <td>142</td>\n",
              "    </tr>\n",
              "    <tr>\n",
              "      <th>9</th>\n",
              "      <td>7.5</td>\n",
              "      <td>190</td>\n",
              "    </tr>\n",
              "    <tr>\n",
              "      <th>10</th>\n",
              "      <td>8.1</td>\n",
              "      <td>215</td>\n",
              "    </tr>\n",
              "    <tr>\n",
              "      <th>11</th>\n",
              "      <td>7.0</td>\n",
              "      <td>199</td>\n",
              "    </tr>\n",
              "    <tr>\n",
              "      <th>12</th>\n",
              "      <td>7.3</td>\n",
              "      <td>262</td>\n",
              "    </tr>\n",
              "    <tr>\n",
              "      <th>13</th>\n",
              "      <td>7.8</td>\n",
              "      <td>105</td>\n",
              "    </tr>\n",
              "    <tr>\n",
              "      <th>14</th>\n",
              "      <td>7.3</td>\n",
              "      <td>121</td>\n",
              "    </tr>\n",
              "    <tr>\n",
              "      <th>15</th>\n",
              "      <td>8.0</td>\n",
              "      <td>81</td>\n",
              "    </tr>\n",
              "    <tr>\n",
              "      <th>16</th>\n",
              "      <td>8.5</td>\n",
              "      <td>82</td>\n",
              "    </tr>\n",
              "    <tr>\n",
              "      <th>17</th>\n",
              "      <td>7.1</td>\n",
              "      <td>210</td>\n",
              "    </tr>\n",
              "    <tr>\n",
              "      <th>18</th>\n",
              "      <td>8.2</td>\n",
              "      <td>202</td>\n",
              "    </tr>\n",
              "    <tr>\n",
              "      <th>19</th>\n",
              "      <td>7.9</td>\n",
              "      <td>155</td>\n",
              "    </tr>\n",
              "    <tr>\n",
              "      <th>20</th>\n",
              "      <td>7.6</td>\n",
              "      <td>157</td>\n",
              "    </tr>\n",
              "    <tr>\n",
              "      <th>21</th>\n",
              "      <td>8.8</td>\n",
              "      <td>147</td>\n",
              "    </tr>\n",
              "    <tr>\n",
              "      <th>22</th>\n",
              "      <td>7.2</td>\n",
              "      <td>133</td>\n",
              "    </tr>\n",
              "    <tr>\n",
              "      <th>23</th>\n",
              "      <td>7.9</td>\n",
              "      <td>53</td>\n",
              "    </tr>\n",
              "    <tr>\n",
              "      <th>24</th>\n",
              "      <td>8.1</td>\n",
              "      <td>56</td>\n",
              "    </tr>\n",
              "    <tr>\n",
              "      <th>25</th>\n",
              "      <td>7.7</td>\n",
              "      <td>113</td>\n",
              "    </tr>\n",
              "    <tr>\n",
              "      <th>26</th>\n",
              "      <td>8.4</td>\n",
              "      <td>35</td>\n",
              "    </tr>\n",
              "    <tr>\n",
              "      <th>27</th>\n",
              "      <td>7.4</td>\n",
              "      <td>125</td>\n",
              "    </tr>\n",
              "    <tr>\n",
              "      <th>28</th>\n",
              "      <td>7.3</td>\n",
              "      <td>76</td>\n",
              "    </tr>\n",
              "    <tr>\n",
              "      <th>29</th>\n",
              "      <td>8.5</td>\n",
              "      <td>48</td>\n",
              "    </tr>\n",
              "    <tr>\n",
              "      <th>30</th>\n",
              "      <td>7.8</td>\n",
              "      <td>147</td>\n",
              "    </tr>\n",
              "    <tr>\n",
              "      <th>31</th>\n",
              "      <td>6.7</td>\n",
              "      <td>117</td>\n",
              "    </tr>\n",
              "    <tr>\n",
              "      <th>32</th>\n",
              "      <td>7.1</td>\n",
              "      <td>182</td>\n",
              "    </tr>\n",
              "    <tr>\n",
              "      <th>33</th>\n",
              "      <td>7.3</td>\n",
              "      <td>87</td>\n",
              "    </tr>\n",
              "  </tbody>\n",
              "</table>\n",
              "</div>"
            ],
            "text/plain": [
              "      X    Y\n",
              "0   7.6  157\n",
              "1   7.1  174\n",
              "2   8.2  175\n",
              "3   7.5  188\n",
              "4   7.4  171\n",
              "5   7.8  143\n",
              "6   7.3  217\n",
              "7   8.0  190\n",
              "8   7.1  142\n",
              "9   7.5  190\n",
              "10  8.1  215\n",
              "11  7.0  199\n",
              "12  7.3  262\n",
              "13  7.8  105\n",
              "14  7.3  121\n",
              "15  8.0   81\n",
              "16  8.5   82\n",
              "17  7.1  210\n",
              "18  8.2  202\n",
              "19  7.9  155\n",
              "20  7.6  157\n",
              "21  8.8  147\n",
              "22  7.2  133\n",
              "23  7.9   53\n",
              "24  8.1   56\n",
              "25  7.7  113\n",
              "26  8.4   35\n",
              "27  7.4  125\n",
              "28  7.3   76\n",
              "29  8.5   48\n",
              "30  7.8  147\n",
              "31  6.7  117\n",
              "32  7.1  182\n",
              "33  7.3   87"
            ]
          },
          "execution_count": 3,
          "metadata": {},
          "output_type": "execute_result"
        }
      ]
    },
    {
      "cell_type": "code",
      "metadata": {
        "id": "6668fb56"
      },
      "source": [
        "maxX=np.max(data['X'])\n",
        "maxY=np.max(data['Y'])\n",
        "minX=np.min(data['X'])\n",
        "minY=np.min(data['Y'])"
      ],
      "id": "6668fb56",
      "execution_count": null,
      "outputs": []
    },
    {
      "cell_type": "code",
      "metadata": {
        "id": "a26e8111"
      },
      "source": [
        "normalized_x=[]\n",
        "for i in range(data.shape[0]):\n",
        "    normalized_x.append((data['X'][i]-minX)/(maxX-minX))"
      ],
      "id": "a26e8111",
      "execution_count": null,
      "outputs": []
    },
    {
      "cell_type": "code",
      "metadata": {
        "id": "1629362e"
      },
      "source": [
        "normalized_y=[]\n",
        "for i in range(data.shape[0]):\n",
        "    normalized_y.append((data['Y'][i]-minY)/(maxY-minY))"
      ],
      "id": "1629362e",
      "execution_count": null,
      "outputs": []
    },
    {
      "cell_type": "code",
      "metadata": {
        "id": "1066aa2a"
      },
      "source": [
        "data['X']=normalized_x\n",
        "data['Y']=normalized_y"
      ],
      "id": "1066aa2a",
      "execution_count": null,
      "outputs": []
    },
    {
      "cell_type": "code",
      "metadata": {
        "id": "ca56ec61",
        "outputId": "594204c1-1bce-4c55-aaca-471b52da1a4b"
      },
      "source": [
        "data"
      ],
      "id": "ca56ec61",
      "execution_count": null,
      "outputs": [
        {
          "data": {
            "text/html": [
              "<div>\n",
              "<style scoped>\n",
              "    .dataframe tbody tr th:only-of-type {\n",
              "        vertical-align: middle;\n",
              "    }\n",
              "\n",
              "    .dataframe tbody tr th {\n",
              "        vertical-align: top;\n",
              "    }\n",
              "\n",
              "    .dataframe thead th {\n",
              "        text-align: right;\n",
              "    }\n",
              "</style>\n",
              "<table border=\"1\" class=\"dataframe\">\n",
              "  <thead>\n",
              "    <tr style=\"text-align: right;\">\n",
              "      <th></th>\n",
              "      <th>X</th>\n",
              "      <th>Y</th>\n",
              "    </tr>\n",
              "  </thead>\n",
              "  <tbody>\n",
              "    <tr>\n",
              "      <th>0</th>\n",
              "      <td>0.428571</td>\n",
              "      <td>0.537445</td>\n",
              "    </tr>\n",
              "    <tr>\n",
              "      <th>1</th>\n",
              "      <td>0.190476</td>\n",
              "      <td>0.612335</td>\n",
              "    </tr>\n",
              "    <tr>\n",
              "      <th>2</th>\n",
              "      <td>0.714286</td>\n",
              "      <td>0.616740</td>\n",
              "    </tr>\n",
              "    <tr>\n",
              "      <th>3</th>\n",
              "      <td>0.380952</td>\n",
              "      <td>0.674009</td>\n",
              "    </tr>\n",
              "    <tr>\n",
              "      <th>4</th>\n",
              "      <td>0.333333</td>\n",
              "      <td>0.599119</td>\n",
              "    </tr>\n",
              "    <tr>\n",
              "      <th>5</th>\n",
              "      <td>0.523810</td>\n",
              "      <td>0.475771</td>\n",
              "    </tr>\n",
              "    <tr>\n",
              "      <th>6</th>\n",
              "      <td>0.285714</td>\n",
              "      <td>0.801762</td>\n",
              "    </tr>\n",
              "    <tr>\n",
              "      <th>7</th>\n",
              "      <td>0.619048</td>\n",
              "      <td>0.682819</td>\n",
              "    </tr>\n",
              "    <tr>\n",
              "      <th>8</th>\n",
              "      <td>0.190476</td>\n",
              "      <td>0.471366</td>\n",
              "    </tr>\n",
              "    <tr>\n",
              "      <th>9</th>\n",
              "      <td>0.380952</td>\n",
              "      <td>0.682819</td>\n",
              "    </tr>\n",
              "    <tr>\n",
              "      <th>10</th>\n",
              "      <td>0.666667</td>\n",
              "      <td>0.792952</td>\n",
              "    </tr>\n",
              "    <tr>\n",
              "      <th>11</th>\n",
              "      <td>0.142857</td>\n",
              "      <td>0.722467</td>\n",
              "    </tr>\n",
              "    <tr>\n",
              "      <th>12</th>\n",
              "      <td>0.285714</td>\n",
              "      <td>1.000000</td>\n",
              "    </tr>\n",
              "    <tr>\n",
              "      <th>13</th>\n",
              "      <td>0.523810</td>\n",
              "      <td>0.308370</td>\n",
              "    </tr>\n",
              "    <tr>\n",
              "      <th>14</th>\n",
              "      <td>0.285714</td>\n",
              "      <td>0.378855</td>\n",
              "    </tr>\n",
              "    <tr>\n",
              "      <th>15</th>\n",
              "      <td>0.619048</td>\n",
              "      <td>0.202643</td>\n",
              "    </tr>\n",
              "    <tr>\n",
              "      <th>16</th>\n",
              "      <td>0.857143</td>\n",
              "      <td>0.207048</td>\n",
              "    </tr>\n",
              "    <tr>\n",
              "      <th>17</th>\n",
              "      <td>0.190476</td>\n",
              "      <td>0.770925</td>\n",
              "    </tr>\n",
              "    <tr>\n",
              "      <th>18</th>\n",
              "      <td>0.714286</td>\n",
              "      <td>0.735683</td>\n",
              "    </tr>\n",
              "    <tr>\n",
              "      <th>19</th>\n",
              "      <td>0.571429</td>\n",
              "      <td>0.528634</td>\n",
              "    </tr>\n",
              "    <tr>\n",
              "      <th>20</th>\n",
              "      <td>0.428571</td>\n",
              "      <td>0.537445</td>\n",
              "    </tr>\n",
              "    <tr>\n",
              "      <th>21</th>\n",
              "      <td>1.000000</td>\n",
              "      <td>0.493392</td>\n",
              "    </tr>\n",
              "    <tr>\n",
              "      <th>22</th>\n",
              "      <td>0.238095</td>\n",
              "      <td>0.431718</td>\n",
              "    </tr>\n",
              "    <tr>\n",
              "      <th>23</th>\n",
              "      <td>0.571429</td>\n",
              "      <td>0.079295</td>\n",
              "    </tr>\n",
              "    <tr>\n",
              "      <th>24</th>\n",
              "      <td>0.666667</td>\n",
              "      <td>0.092511</td>\n",
              "    </tr>\n",
              "    <tr>\n",
              "      <th>25</th>\n",
              "      <td>0.476190</td>\n",
              "      <td>0.343612</td>\n",
              "    </tr>\n",
              "    <tr>\n",
              "      <th>26</th>\n",
              "      <td>0.809524</td>\n",
              "      <td>0.000000</td>\n",
              "    </tr>\n",
              "    <tr>\n",
              "      <th>27</th>\n",
              "      <td>0.333333</td>\n",
              "      <td>0.396476</td>\n",
              "    </tr>\n",
              "    <tr>\n",
              "      <th>28</th>\n",
              "      <td>0.285714</td>\n",
              "      <td>0.180617</td>\n",
              "    </tr>\n",
              "    <tr>\n",
              "      <th>29</th>\n",
              "      <td>0.857143</td>\n",
              "      <td>0.057269</td>\n",
              "    </tr>\n",
              "    <tr>\n",
              "      <th>30</th>\n",
              "      <td>0.523810</td>\n",
              "      <td>0.493392</td>\n",
              "    </tr>\n",
              "    <tr>\n",
              "      <th>31</th>\n",
              "      <td>0.000000</td>\n",
              "      <td>0.361233</td>\n",
              "    </tr>\n",
              "    <tr>\n",
              "      <th>32</th>\n",
              "      <td>0.190476</td>\n",
              "      <td>0.647577</td>\n",
              "    </tr>\n",
              "    <tr>\n",
              "      <th>33</th>\n",
              "      <td>0.285714</td>\n",
              "      <td>0.229075</td>\n",
              "    </tr>\n",
              "  </tbody>\n",
              "</table>\n",
              "</div>"
            ],
            "text/plain": [
              "           X         Y\n",
              "0   0.428571  0.537445\n",
              "1   0.190476  0.612335\n",
              "2   0.714286  0.616740\n",
              "3   0.380952  0.674009\n",
              "4   0.333333  0.599119\n",
              "5   0.523810  0.475771\n",
              "6   0.285714  0.801762\n",
              "7   0.619048  0.682819\n",
              "8   0.190476  0.471366\n",
              "9   0.380952  0.682819\n",
              "10  0.666667  0.792952\n",
              "11  0.142857  0.722467\n",
              "12  0.285714  1.000000\n",
              "13  0.523810  0.308370\n",
              "14  0.285714  0.378855\n",
              "15  0.619048  0.202643\n",
              "16  0.857143  0.207048\n",
              "17  0.190476  0.770925\n",
              "18  0.714286  0.735683\n",
              "19  0.571429  0.528634\n",
              "20  0.428571  0.537445\n",
              "21  1.000000  0.493392\n",
              "22  0.238095  0.431718\n",
              "23  0.571429  0.079295\n",
              "24  0.666667  0.092511\n",
              "25  0.476190  0.343612\n",
              "26  0.809524  0.000000\n",
              "27  0.333333  0.396476\n",
              "28  0.285714  0.180617\n",
              "29  0.857143  0.057269\n",
              "30  0.523810  0.493392\n",
              "31  0.000000  0.361233\n",
              "32  0.190476  0.647577\n",
              "33  0.285714  0.229075"
            ]
          },
          "execution_count": 8,
          "metadata": {},
          "output_type": "execute_result"
        }
      ]
    },
    {
      "cell_type": "code",
      "metadata": {
        "id": "58d2ff91"
      },
      "source": [
        "from sklearn.model_selection import train_test_split\n",
        "x=data['X']\n",
        "y=data['Y']\n",
        "x_train,x_test,y_train,y_test=train_test_split(x,y,test_size=0.1,random_state=10)"
      ],
      "id": "58d2ff91",
      "execution_count": null,
      "outputs": []
    },
    {
      "cell_type": "code",
      "metadata": {
        "id": "0de189cb",
        "outputId": "a06c9f5a-dab0-4b60-c1ee-14e84cfb74e7"
      },
      "source": [
        "def gradient(m1,m2,c,x,y):\n",
        "    m1_deriv=-1*(y-m1*x*x-m2*x-c)*x*x\n",
        "    m2_deriv=-1*(y-m1*x*x-m2*x-c)*x\n",
        "    c_deriv=-1*(y-m1*x*x-m2*x-c)\n",
        "    return m1_deriv,m2_deriv,c_deriv\n",
        "\n",
        "m1=np.random.uniform(-10,10)\n",
        "m2=np.random.uniform(-10,10)\n",
        "c=np.random.uniform(-10,10)\n",
        "eta=0.5\n",
        "max_iter=1000\n",
        "\n",
        "for iter in range(max_iter):\n",
        "    for sample in range(x_train.shape[0]):\n",
        "        delm1,delm2,delc=gradient(m1, m2, c, x_train.iloc[sample], y_train.iloc[sample])\n",
        "        m1=m1-eta*delm1\n",
        "        m2=m2-eta*delm2\n",
        "        c=c-eta*delc\n",
        "print('model parameterS m1, m2 and c',m1,m2,c)"
      ],
      "id": "0de189cb",
      "execution_count": null,
      "outputs": [
        {
          "name": "stdout",
          "output_type": "stream",
          "text": [
            "model parameterS m1, m2 and c -0.5627494471328262 0.18373456497313254 0.5664752247124054\n"
          ]
        }
      ]
    },
    {
      "cell_type": "code",
      "metadata": {
        "id": "2261b6e7"
      },
      "source": [
        "y_pred_train = []\n",
        "for i in x_train:\n",
        "    y_pred = m1*i*i + m2*i + c\n",
        "    y_pred_train.append(y_pred)\n",
        "y_pred_train = np.array(y_pred_train)"
      ],
      "id": "2261b6e7",
      "execution_count": null,
      "outputs": []
    },
    {
      "cell_type": "code",
      "metadata": {
        "id": "cf79101b"
      },
      "source": [
        "y_pred_test = []\n",
        "for i in x_test:\n",
        "    y_pred = m1*i*i + m2*i + c\n",
        "    y_pred_test.append(y_pred)\n",
        "y_pred_test = np.array(y_pred_test)"
      ],
      "id": "cf79101b",
      "execution_count": null,
      "outputs": []
    },
    {
      "cell_type": "code",
      "metadata": {
        "id": "1b6d2f84"
      },
      "source": [
        "y_train_denorm=[]\n",
        "y_train_pred_denorm=[]\n",
        "for i in range(y_train.shape[0]):\n",
        "    y_train_denorm.append(y_train.iloc[i]*(maxY-minY)+minY)\n",
        "    y_train_pred_denorm.append(y_pred_train[i]*(maxY-minY)+minY)\n",
        "y_pred_train=y_train_pred_denorm\n",
        "y_train=y_train_denorm"
      ],
      "id": "1b6d2f84",
      "execution_count": null,
      "outputs": []
    },
    {
      "cell_type": "code",
      "metadata": {
        "id": "7f9e3d6f"
      },
      "source": [
        "y_test_denorm=[]\n",
        "y_test_pred_denorm=[]\n",
        "for i in range(y_test.shape[0]):\n",
        "    y_test_denorm.append(y_test.iloc[i]*(maxY-minY)+minY)\n",
        "    y_test_pred_denorm.append(y_pred_test[i]*(maxY-minY)+minY)\n",
        "y_pred_test=y_test_pred_denorm\n",
        "y_test=y_test_denorm"
      ],
      "id": "7f9e3d6f",
      "execution_count": null,
      "outputs": []
    },
    {
      "cell_type": "code",
      "metadata": {
        "id": "6fae00fd",
        "outputId": "280f83f7-f2db-4d2c-fb53-3b66f7c5ab2f"
      },
      "source": [
        "import math\n",
        "from sklearn.metrics import mean_squared_error \n",
        "from sklearn.metrics import mean_absolute_error\n",
        "rmse = math.sqrt(mean_squared_error(y_train, y_pred_train)) \n",
        "print('Root mean square error', rmse) \n",
        "mse = (mean_squared_error(y_train, y_pred_train)) \n",
        "print('Mean square error', mse) \n",
        "mae=mean_absolute_error(y_train, y_pred_train)\n",
        "print('Mean absolute error', mae)"
      ],
      "id": "6fae00fd",
      "execution_count": null,
      "outputs": [
        {
          "name": "stdout",
          "output_type": "stream",
          "text": [
            "Root mean square error 50.84028304059249\n",
            "Mean square error 2584.7343796475566\n",
            "Mean absolute error 42.04309947898483\n"
          ]
        }
      ]
    },
    {
      "cell_type": "code",
      "metadata": {
        "id": "f1746cfe",
        "outputId": "01523e38-3afc-47ad-c9a4-14ec49388a86"
      },
      "source": [
        "rmse = math.sqrt(mean_squared_error(y_test, y_pred_test)) \n",
        "print('Root mean square error', rmse) \n",
        "mse = (mean_squared_error(y_test, y_pred_test)) \n",
        "print('Mean square error', mse) \n",
        "mae=mean_absolute_error(y_test, y_pred_test)\n",
        "print('Mean absolute error', mae)"
      ],
      "id": "f1746cfe",
      "execution_count": null,
      "outputs": [
        {
          "name": "stdout",
          "output_type": "stream",
          "text": [
            "Root mean square error 59.88977842373794\n",
            "Mean square error 3586.7855596444265\n",
            "Mean absolute error 55.58216475556287\n"
          ]
        }
      ]
    },
    {
      "cell_type": "code",
      "metadata": {
        "id": "18800876"
      },
      "source": [
        ""
      ],
      "id": "18800876",
      "execution_count": null,
      "outputs": []
    },
    {
      "cell_type": "code",
      "metadata": {
        "id": "3fd4126f"
      },
      "source": [
        ""
      ],
      "id": "3fd4126f",
      "execution_count": null,
      "outputs": []
    }
  ]
}